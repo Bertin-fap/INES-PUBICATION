{
 "cells": [
  {
   "cell_type": "markdown",
   "metadata": {},
   "source": [
    "# Raw data processing\n",
    "- conversion time --> %coupe\n",
    "- data filtering\n",
    "- data downsampling"
   ]
  },
  {
   "cell_type": "code",
   "execution_count": null,
   "metadata": {},
   "outputs": [],
   "source": [
    "from scipy import signal\n",
    "import numpy as np\n",
    "import pandas as pd\n",
    "import matplotlib.pyplot as plt\n",
    "%matplotlib inline\n",
    "\n",
    "# get the two values temps_contact and Durée_effective_coupe\n",
    "dg = pd.read_excel(r'C:\\Users\\franc\\OneDrive\\Bureau\\confocal1\\Bow_Coupe_117.xlsx',\n",
    "                  sheet_name ='2019-10-01_Bow_mm', skiprows = 3, header = None, usecols='F:G',nrows=2,)\n",
    "\n",
    "cst = dg.to_dict(orient='split')['data']\n",
    "temps_contact = cst[0][1] # in sec\n",
    "Durée_effective_coupe = cst[1][1] # in min\n",
    "\n",
    "# get the data\n",
    "data = pd.read_excel(r'C:\\Users\\franc\\OneDrive\\Bureau\\confocal1\\Bow_Coupe_117.xlsx',\n",
    "                  sheet_name ='2019-10-01_Bow_mm', skiprows = 5,  usecols='B,H,I,J,K,L')\n",
    "\n",
    "# conversion time --> cut percentage \n",
    "per_cent_coupe = np.array(data['Temps LabView (s)'])\n",
    "per_cent_coupe = 100* (per_cent_coupe - per_cent_coupe[0] - temps_contact)/(60*Durée_effective_coupe)\n",
    "\n",
    "# filter the data using a moving window of length long and of type win\n",
    "long = 121\n",
    "win ='boxcar'  #'hamming', 'boxcar', 'boxcar','triang', 'blackman', 'hamming', 'bartlett', 'parzen', 'bohman',\n",
    "norme = sum(signal.get_window(win, long))\n",
    "dic = {}\n",
    "bow_name = [x for x in data.columns if 'Bow' in x]\n",
    "for bow in bow_name:\n",
    "    data_filter = data[bow].rolling(long,center=True, win_type=win, axis=0).sum()/norme\n",
    "    plt.plot(per_cent_coupe,data[bow])\n",
    "    plt.plot(per_cent_coupe,data_filter)\n",
    "    dic[bow] = data_filter[long//2+1::long]\n",
    "plt.xlabel('% coupe')\n",
    "plt.ylabel('bow [mm]')\n",
    "plt.title(f'window: {win}, length: {long}')\n",
    "dic['% coupe'] = per_cent_coupe[long//2+1::long]\n",
    "new = pd.DataFrame.from_dict(dic)\n",
    "new=new.reindex(columns= ['% coupe', *bow_name])\n",
    "\n",
    "new.to_excel(r'C:\\Users\\franc\\OneDrive\\Bureau\\confocal1\\result.xlsx')"
   ]
  },
  {
   "cell_type": "markdown",
   "metadata": {},
   "source": [
    "# Comparison with INES processing"
   ]
  },
  {
   "cell_type": "code",
   "execution_count": null,
   "metadata": {},
   "outputs": [],
   "source": [
    "dines = df = pd.read_excel(r'C:\\Users\\franc\\OneDrive\\Bureau\\confocal1\\Bow_Coupe_117.xlsx',\n",
    "                  sheet_name ='2019-10-01_Bow&dérivée', header = 5, usecols='G,H,J,L,N,P')\n",
    "plt.plot(dic['% coupe'],dic['Bow 8 (mm)'],label ='python processing')\n",
    "plt.plot(dines['% coupe'],dines['Bow 8 lissé (mm)'],label ='INES processing')\n",
    "plt.xlabel('% coupe')\n",
    "plt.ylabel('bow [mm]')\n",
    "plt.legend()"
   ]
  },
  {
   "cell_type": "markdown",
   "metadata": {},
   "source": [
    "# 3D plot"
   ]
  },
  {
   "cell_type": "code",
   "execution_count": null,
   "metadata": {},
   "outputs": [],
   "source": [
    "## version 25/11/2020\n",
    "import pandas as pd\n",
    "import numpy as np\n",
    "from pathlib import Path #<----------------------------- work with Python 4\n",
    "import matplotlib.pyplot as plt\n",
    "from mpl_toolkits.mplot3d import Axes3D\n",
    "from matplotlib.colors import LightSource\n",
    "from scipy import interpolate\n",
    "\n",
    "#Loading data\n",
    "Num_coupe = 118\n",
    "\n",
    "data_folder = Path(\"C:/Users/franc/OneDrive/Bureau/confocal1\") #<------------------- uses mac & Unix convention data_file = 'Kappa 3D_Coupe_'+str(Num_coupe)+'.xlsx'\n",
    "df_raw = pd.read_excel(data_folder / Path(\"Kappa 3D_Coupe_118.xlsx\")) # <--------- work with all os df_raw.columns=['A\n",
    "df_raw.rename({\"% coupe\":\"A\"}, axis=1, inplace=True)\n",
    "\n",
    "\n",
    "#Real measurements values\n",
    "val_min = 10\n",
    "val_max = 70\n",
    "df= df_raw.query('A > @val_min and A < @val_max') \n",
    "\n",
    "y1 = list(df['A'])                # % of cut\n",
    "x1 =[1,2,3,4,5]                   # Sensor number\n",
    "x,y = np.meshgrid(x1, y1)         # (x,y) mesh construction \n",
    "df=df.drop(['A'],axis=1)          # Keep only z values in df\n",
    "z = df.values                     # 2D array of z values\n",
    " \n",
    "fig = plt.figure(figsize=(10,12)) # Plot area \n",
    "ax = plt.axes(projection=\"3d\")    # Frame for 3D plot\n",
    " \n",
    "# interpolation \n",
    "newfunc = interpolate.interp2d(x1,y1,z,kind='linear')         # Definition of 2D linear interpolation function \n",
    "xnew = np.linspace(x1[0] , x1[-1], num=1000, endpoint=True)   # New sampling of 1000 points along x between extrema of x1 \n",
    "ynew = np.linspace(y1[0] , y1[-1], num=1000, endpoint=True)   # New sampling of 1000 points along y between extrema of y1 \n",
    "znew = newfunc(xnew, ynew)                                    # Use of the defined newfunc as 2D linear interpolation \n",
    "                                                              # for the calculation of z at the (xnew,ynew) positions \n",
    "x,y = np.meshgrid(xnew, ynew)                                 # (x,y) mesh re-construction for the (xnew,ynew) positions\n",
    "\n",
    "# 3D plot\n",
    "surf=ax.plot_wireframe(y, x, znew, 0.3, rcount=len(y1), ccount=4, color='red')                # Wireframe \n",
    "\n",
    "\n",
    "ax.set_zlim(0.5, 6)                                                     # set limits of z axis\n",
    "ax.set_yticks(x1, minor=False)                                          # set ticks label for y axis (integer values)\n",
    "ax.set_ylabel('Sensor number',fontsize=14)                              # set label of y axis\n",
    "ax.set_xlabel('Cut progress (%)',fontsize=14)                           # set label of x axis\n",
    "ax.set_zlabel('Cutting efficiency (10$^{-7}$ m.N$^{-1}$)',fontsize=14)  # set label of z axis\n",
    "ax.view_init(elev=0., azim=35)                                          # set point of view\n"
   ]
  }
 ],
 "metadata": {
  "kernelspec": {
   "display_name": "Python 3",
   "language": "python",
   "name": "python3"
  },
  "language_info": {
   "codemirror_mode": {
    "name": "ipython",
    "version": 3
   },
   "file_extension": ".py",
   "mimetype": "text/x-python",
   "name": "python",
   "nbconvert_exporter": "python",
   "pygments_lexer": "ipython3",
   "version": "3.7.6"
  }
 },
 "nbformat": 4,
 "nbformat_minor": 4
}
